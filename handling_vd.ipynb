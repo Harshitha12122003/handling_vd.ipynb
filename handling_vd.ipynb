{
 "cells": [
  {
   "cell_type": "code",
   "execution_count": 1,
   "id": "7794000a-d761-49b3-8eb7-1547d5a8f20e",
   "metadata": {},
   "outputs": [],
   "source": [
    "import cv2\n",
    "import numpy as np"
   ]
  },
  {
   "cell_type": "markdown",
   "id": "9ec10069-5de2-4419-b232-e948e46a5fe9",
   "metadata": {},
   "source": [
    "#### cv2.VideoCapture is a class in OpenCV that is used to capture video from a video file, camera (webcam), or other video input sources. It allows you to access video streams and process video frames in real time.\n",
    "#### VideoCapture() converts a video into list of frame"
   ]
  },
  {
   "cell_type": "markdown",
   "id": "dc8e6a74-a76a-42a8-9c01-cda1f67aba03",
   "metadata": {},
   "source": [
    "#### Playing the video"
   ]
  },
  {
   "cell_type": "code",
   "execution_count": null,
   "id": "86978ba2-9aec-4e4f-9fca-43405999ce10",
   "metadata": {},
   "outputs": [],
   "source": [
    "vid = cv2.VideoCapture(r\"C:\\Users\\Harshitha\\Documents\\WhatsApp Video 2024-11-09 at 17.47.44_85d87031.mp4\") \n",
    "while True:\n",
    "    res, img = vid.read()\n",
    "    if res == False: \n",
    "        break\n",
    "    cv2.imshow(\"video\", img) # shows frame by frame in the form of image\n",
    "    # cv2.waitkey waits for user to press key, if pressed, it ands with 255, gets the same result. Ex: 65 & 255 = 65\n",
    "    # in this case, if user presses q,  the video ends in middle or it keeps on playing\n",
    "    if cv2.waitKey(10) & 255 == ord(\"q\"): \n",
    "        break\n",
    "cv2.destroyAllWindows()"
   ]
  },
  {
   "cell_type": "markdown",
   "id": "25e3fb2e-3e11-4b81-8d84-1e4fa269cd1f",
   "metadata": {},
   "source": [
    "#### video in Grayscale"
   ]
  },
  {
   "cell_type": "code",
   "execution_count": null,
   "id": "a1355858-c78a-4923-bcb7-628b8fc7db11",
   "metadata": {},
   "outputs": [],
   "source": [
    "vid = cv2.VideoCapture(r\"C:\\Users\\Harshitha\\Documents\\WhatsApp Video 2024-11-09 at 17.47.44_85d87031.mp4\") \n",
    "while True:\n",
    "    res, img = vid.read() \n",
    "    if res == False: \n",
    "        break\n",
    "    # cvtcolor is used to convert an image from one colorspace into another\n",
    "    img1 = cv2.cvtColor(img, cv2.COLOR_BGR2GRAY) # converts the frame image to gray inorder to play video in grayscale\n",
    "    cv2.imshow(\"video_gray\", img1) # plays video in graysclae\n",
    "    cv2.imshow(\"video_color\", img) # plays video in color\n",
    "    if cv2.waitKey(10) & 255 == ord(\"q\"): \n",
    "        break\n",
    "cv2.destroyAllWindows()"
   ]
  },
  {
   "cell_type": "markdown",
   "id": "4ebaa6ba-03c2-4963-84ec-3f8ba7b64198",
   "metadata": {},
   "source": [
    "#### playing vd in RGB Channels"
   ]
  },
  {
   "cell_type": "code",
   "execution_count": null,
   "id": "c691a9e5-3a7f-412f-b8b3-68571a5b8892",
   "metadata": {},
   "outputs": [],
   "source": [
    "vid = cv2.VideoCapture(r\"C:\\Users\\Harshitha\\Documents\\WhatsApp Video 2024-11-09 at 17.47.44_85d87031.mp4\") \n",
    "while True:\n",
    "    res, img = vid.read() \n",
    "    if res == False: \n",
    "        break\n",
    "    b, g, r = cv2.split(img)\n",
    "    z = np.zeros(b.shape, dtype = np.uint8)\n",
    "    cv2.imshow(\"Blue channel\", cv2.merge([b, z, z]))\n",
    "    cv2.imshow(\"Green channel\", cv2.merge([z, g, z]))\n",
    "    cv2.imshow(\"Red channel\", cv2.merge([z, z, r]))\n",
    "    if cv2.waitKey(10) & 255 == ord(\"q\"): \n",
    "        break\n",
    "cv2.destroyAllWindows()"
   ]
  },
  {
   "cell_type": "markdown",
   "id": "0d650817-77a8-4a75-bafc-d24d49dcb884",
   "metadata": {},
   "source": [
    "#### webcam"
   ]
  },
  {
   "cell_type": "code",
   "execution_count": null,
   "id": "39f71692-d5b6-41cd-a115-348e33e33684",
   "metadata": {},
   "outputs": [],
   "source": [
    "vid = cv2.VideoCapture(0) # id --> 0 indicates the default web cam, 1 or 2 indicates other webcams\n",
    "while True:\n",
    "    res, img = vid.read()\n",
    "    \n",
    "    if res == False:\n",
    "        print(\"Camera not working\")\n",
    "        break\n",
    "    cv2.imshow(\"live stream\", img)\n",
    "    if cv2.waitKey(1) & 255 == ord(\"q\"):\n",
    "        break\n",
    "cv2.destroyAllWindows()"
   ]
  },
  {
   "cell_type": "markdown",
   "id": "338614dd-7377-412f-8b9b-c3128f354539",
   "metadata": {},
   "source": [
    "#### Grayscale and R,G,B Livestream at once"
   ]
  },
  {
   "cell_type": "code",
   "execution_count": null,
   "id": "40eee00a-4c58-41b7-8403-c78a0c995159",
   "metadata": {},
   "outputs": [],
   "source": [
    "vid = cv2.VideoCapture(0) \n",
    "while True:\n",
    "    res, img = vid.read()\n",
    "    if res == False:\n",
    "        print(\"Camera not working\")\n",
    "        break\n",
    "    img1 = cv2.cvtColor(img, cv2.COLOR_BGR2GRAY)\n",
    "    cv2.imshow(\"RGB live stream\", img)\n",
    "    cv2.imshow(\"Grayscalelive stream\", img1)\n",
    "    if cv2.waitKey(1) & 255 == ord(\"q\"):\n",
    "        break\n",
    "cv2.destroyAllWindows()"
   ]
  },
  {
   "cell_type": "markdown",
   "id": "69286629-e41f-4c30-948e-faf3bbe7f3c8",
   "metadata": {},
   "source": [
    "#### Livestream in B,G,R Channels"
   ]
  },
  {
   "cell_type": "code",
   "execution_count": null,
   "id": "8ebd1a54-0798-4412-aba6-d71cf4a5255f",
   "metadata": {},
   "outputs": [],
   "source": [
    "vid = cv2.VideoCapture(0) \n",
    "while True:\n",
    "    res, img = vid.read()\n",
    "    if res == False:\n",
    "        print(\"Camera not working\")\n",
    "        break\n",
    "    b, g, r = cv2.split(img)\n",
    "    z = np.zeros(b.shape, dtype = np.uint8)\n",
    "    cv2.imshow(\"Blue channel live stream\", cv2.merge([b, z, z]))\n",
    "    cv2.imshow(\"Green channel live stream\", cv2.merge([z, g, z]))\n",
    "    cv2.imshow(\"Red channel live stream\", cv2.merge([z, z, r]))\n",
    "    if cv2.waitKey(1) & 255 == ord(\"q\"):\n",
    "        break\n",
    "cv2.destroyAllWindows()"
   ]
  },
  {
   "cell_type": "code",
   "execution_count": null,
   "id": "311a52b6-e815-414a-b483-dd066cf9a94e",
   "metadata": {},
   "outputs": [],
   "source": []
  },
  {
   "cell_type": "code",
   "execution_count": null,
   "id": "b821291c-158f-4e5a-8f7b-02607cf54fe5",
   "metadata": {},
   "outputs": [],
   "source": []
  },
  {
   "cell_type": "code",
   "execution_count": null,
   "id": "69652c9c-ec9e-426f-8247-86c6e2bd7abc",
   "metadata": {},
   "outputs": [],
   "source": []
  },
  {
   "cell_type": "code",
   "execution_count": null,
   "id": "dfc299c6-b395-455f-9688-b89c91bef412",
   "metadata": {},
   "outputs": [],
   "source": []
  }
 ],
 "metadata": {
  "kernelspec": {
   "display_name": "Python 3 (ipykernel)",
   "language": "python",
   "name": "python3"
  },
  "language_info": {
   "codemirror_mode": {
    "name": "ipython",
    "version": 3
   },
   "file_extension": ".py",
   "mimetype": "text/x-python",
   "name": "python",
   "nbconvert_exporter": "python",
   "pygments_lexer": "ipython3",
   "version": "3.12.4"
  }
 },
 "nbformat": 4,
 "nbformat_minor": 5
}
